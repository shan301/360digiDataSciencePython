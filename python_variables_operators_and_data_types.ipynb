{
  "nbformat": 4,
  "nbformat_minor": 0,
  "metadata": {
    "colab": {
      "provenance": [],
      "authorship_tag": "ABX9TyONamPXO0Bv2dCMFLhib3iA",
      "include_colab_link": true
    },
    "kernelspec": {
      "name": "python3",
      "display_name": "Python 3"
    },
    "language_info": {
      "name": "python"
    }
  },
  "cells": [
    {
      "cell_type": "markdown",
      "metadata": {
        "id": "view-in-github",
        "colab_type": "text"
      },
      "source": [
        "<a href=\"https://colab.research.google.com/github/shan301/360digiDataSciencePython/blob/main/python_variables_operators_and_data_types.ipynb\" target=\"_parent\"><img src=\"https://colab.research.google.com/assets/colab-badge.svg\" alt=\"Open In Colab\"/></a>"
      ]
    },
    {
      "cell_type": "markdown",
      "source": [
        "1. Introduction to Python\n",
        "Created by: Guido van Rossum in 1989, officially released in 1991.\n",
        "Features:\n",
        "Functional programming (from C)\n",
        "Object-oriented programming (from C++)\n",
        "Scripting capabilities (like Perl and Shell scripting)\n",
        "Modular programming (like Modular-3)"
      ],
      "metadata": {
        "id": "ewLMcua6xySR"
      }
    },
    {
      "cell_type": "code",
      "source": [
        "\"\"\"Python Variables\n",
        "A variable is a named memory location used to store data.\n",
        "\n",
        "Rules for Variable Names:\n",
        "✅ Must start with a letter (a-z, A-Z) or an underscore _\n",
        "✅ Can contain numbers (0-9) but cannot start with a number\n",
        "✅ Cannot use special characters (except _)\n",
        "✅ Case-sensitive (age and Age are different variables)\"\"\"\n",
        "\n",
        "x = 10       # Integer\n",
        "y = 15.6     # Float\n",
        "name = 'John' # String"
      ],
      "metadata": {
        "id": "YZNne1Fzx7Du"
      },
      "execution_count": null,
      "outputs": []
    },
    {
      "cell_type": "code",
      "source": [
        "\"\"\"Operators in Python\n",
        "Operators perform operations on variables and values.\n",
        "\n",
        " Types of Operators:\n",
        "Arithmetic Operators (+, -, *, /, //, %, **)\n",
        "Comparison Operators (==, !=, >, <, >=, <=)\n",
        "Assignment Operators (=, +=, -=, *=, /=, //=, **=, %=)\n",
        "Logical Operators (and, or, not)\n",
        "Membership Operators (in, not in)\n",
        "Identity Operators (is, is not)\n",
        "Bitwise Operators (&, |, ^, ~, <<, >>)\n",
        "Example:\"\"\"\n",
        "\n",
        "\n",
        "a = 10\n",
        "b = 20\n",
        "print(a + b)  # Output: 30\n",
        "print(a > b)  # Output: False"
      ],
      "metadata": {
        "colab": {
          "base_uri": "https://localhost:8080/"
        },
        "collapsed": true,
        "id": "ZGEz6Mgiygs4",
        "outputId": "be31ea79-be68-49c4-cf73-566c48e13f06"
      },
      "execution_count": null,
      "outputs": [
        {
          "output_type": "stream",
          "name": "stdout",
          "text": [
            "30\n",
            "False\n"
          ]
        }
      ]
    },
    {
      "cell_type": "code",
      "source": [
        "\"\"\"Python Data Types\n",
        "Every value in Python belongs to a data type.\n",
        "\n",
        "Data Type\tExample\tDescription\n",
        "Integer (int)\tx = 10\tWhole numbers\n",
        "Float (float)\ty = 10.5\tDecimal numbers\n",
        "Complex (complex)\tz = 3 + 5j\tComplex numbers\n",
        "Boolean (bool)\tflag = True\tTrue or False\n",
        "String (str)\tname = \"Python\"\tText data\n",
        "List (list)\tlst = [1, 2, 3]\tOrdered, mutable sequence\n",
        "Tuple (tuple)\ttup = (1, 2, 3)\tOrdered, immutable sequence\n",
        "Set (set)\ts = {1, 2, 3}\tUnordered, unique items\n",
        "Dictionary (dict)\td = {'a': 1, 'b': 2}\tKey-value pairs\"\"\""
      ],
      "metadata": {
        "colab": {
          "base_uri": "https://localhost:8080/",
          "height": 72
        },
        "collapsed": true,
        "id": "n3ZavJRbyyja",
        "outputId": "a8ea1fe6-846c-4584-f2a2-5e93ad770d39"
      },
      "execution_count": null,
      "outputs": [
        {
          "output_type": "execute_result",
          "data": {
            "text/plain": [
              "'Python Data Types\\nEvery value in Python belongs to a data type.\\n\\nData Type\\tExample\\tDescription\\nInteger (int)\\tx = 10\\tWhole numbers\\nFloat (float)\\ty = 10.5\\tDecimal numbers\\nComplex (complex)\\tz = 3 + 5j\\tComplex numbers\\nBoolean (bool)\\tflag = True\\tTrue or False\\nString (str)\\tname = \"Python\"\\tText data\\nList (list)\\tlst = [1, 2, 3]\\tOrdered, mutable sequence\\nTuple (tuple)\\ttup = (1, 2, 3)\\tOrdered, immutable sequence\\nSet (set)\\ts = {1, 2, 3}\\tUnordered, unique items\\nDictionary (dict)\\td = {\\'a\\': 1, \\'b\\': 2}\\tKey-value pairs'"
            ],
            "application/vnd.google.colaboratory.intrinsic+json": {
              "type": "string"
            }
          },
          "metadata": {},
          "execution_count": 6
        }
      ]
    },
    {
      "cell_type": "code",
      "source": [
        "\"\"\"Strings in Python\n",
        "A string is a sequence of characters enclosed in quotes.\n",
        "\n",
        "String Operations:\"\"\"\n",
        "\n",
        "s = \"Python\"\n",
        "print(len(s))        # Output: 6\n",
        "print(s[0])          # Output: P\n",
        "print(s[-1])         # Output: n\n",
        "print(s[1:4])        # Output: yth\n",
        "print(s.upper())     # Output: PYTHON\n",
        "print(s.lower())     # Output: python\n",
        "print(s.replace(\"P\", \"J\")) # Output: Jython"
      ],
      "metadata": {
        "colab": {
          "base_uri": "https://localhost:8080/"
        },
        "collapsed": true,
        "id": "h5v5P6wnzA41",
        "outputId": "bfa72e0f-ffc1-4c06-d9f9-064941e26a4a"
      },
      "execution_count": null,
      "outputs": [
        {
          "output_type": "stream",
          "name": "stdout",
          "text": [
            "6\n",
            "P\n",
            "n\n",
            "yth\n",
            "PYTHON\n",
            "python\n",
            "Jython\n"
          ]
        }
      ]
    },
    {
      "cell_type": "code",
      "source": [
        "\"\"\"Lists in Python\n",
        "A list is an ordered collection of items.\"\"\"\n",
        "\n",
        "fruits = [\"apple\", \"banana\", \"cherry\"]\n",
        "print(fruits[1])    # Output: banana\n",
        "\n",
        "fruits.append(\"orange\")  # Add item\n",
        "fruits.remove(\"banana\")  # Remove item\n",
        "print(fruits)  # Output: ['apple', 'cherry', 'orange']"
      ],
      "metadata": {
        "colab": {
          "base_uri": "https://localhost:8080/"
        },
        "collapsed": true,
        "id": "qvQh-_U41FWH",
        "outputId": "ebc4ac47-5600-4559-a5b5-9c56b7d50200"
      },
      "execution_count": null,
      "outputs": [
        {
          "output_type": "stream",
          "name": "stdout",
          "text": [
            "banana\n",
            "['apple', 'cherry', 'orange']\n"
          ]
        }
      ]
    },
    {
      "cell_type": "code",
      "source": [
        "\"\"\"Tuples in Python\n",
        "A tuple is like a list, but immutable (cannot be changed).\"\"\"\n",
        "tup = (1, 2, 3)\n",
        "print(tup[0])   # Output: 1\n",
        "#tup[1] = 4   # ❌ Error! Tuples cannot be modified"
      ],
      "metadata": {
        "colab": {
          "base_uri": "https://localhost:8080/"
        },
        "collapsed": true,
        "id": "8mfCgYEM1Tzc",
        "outputId": "ae52a911-10c9-42f9-929b-5f315c74be9d"
      },
      "execution_count": null,
      "outputs": [
        {
          "output_type": "stream",
          "name": "stdout",
          "text": [
            "1\n"
          ]
        }
      ]
    },
    {
      "cell_type": "code",
      "source": [
        "\"\"\"Sets in Python\n",
        "A set is an unordered collection of unique items.\"\"\"\n",
        "s = {1, 2, 3, 3, 2}\n",
        "print(s)  # Output: {1, 2, 3}\n",
        "s.add(4)  # Adding element\n",
        "s.remove(2)  # Removing element\n",
        "print(s)  # Output: {1, 3, 4}"
      ],
      "metadata": {
        "colab": {
          "base_uri": "https://localhost:8080/"
        },
        "collapsed": true,
        "id": "K33-k-EN1gkQ",
        "outputId": "5c07dfe8-596a-4c3b-ba90-c0367908010d"
      },
      "execution_count": null,
      "outputs": [
        {
          "output_type": "stream",
          "name": "stdout",
          "text": [
            "{1, 2, 3}\n",
            "{1, 3, 4}\n"
          ]
        }
      ]
    },
    {
      "cell_type": "code",
      "source": [
        "\"\"\"Dictionaries in Python\n",
        "A dictionary stores key-value pairs.\"\"\"\n",
        "student = {\"name\": \"John\", \"age\": 25}\n",
        "print(student[\"name\"])  # Output: John\n",
        "student[\"age\"] = 26  # Update value\n",
        "print(student)  # Output: {'name': 'John', 'age': 26}"
      ],
      "metadata": {
        "colab": {
          "base_uri": "https://localhost:8080/"
        },
        "collapsed": true,
        "id": "qi17NmhZ1qPF",
        "outputId": "512f3d22-365e-4e5c-dc6b-66691b551f21"
      },
      "execution_count": null,
      "outputs": [
        {
          "output_type": "stream",
          "name": "stdout",
          "text": [
            "John\n",
            "{'name': 'John', 'age': 26}\n"
          ]
        }
      ]
    },
    {
      "cell_type": "code",
      "source": [
        "\"\"\"Date and Time in Python\n",
        "Python provides a datetime module for handling dates and times.\"\"\"\n",
        "\n",
        "from datetime import datetime\n",
        "\n",
        "now = datetime.now()\n",
        "print(now)  # Output: Current date and time\n",
        "\n",
        "print(now.strftime(\"%Y-%m-%d %H:%M:%S\"))  # Formatted date and time"
      ],
      "metadata": {
        "colab": {
          "base_uri": "https://localhost:8080/"
        },
        "collapsed": true,
        "id": "440sOr0n2ZPv",
        "outputId": "d48b597c-7f03-4638-d0fc-d72c5f3bf5c7"
      },
      "execution_count": null,
      "outputs": [
        {
          "output_type": "stream",
          "name": "stdout",
          "text": [
            "2025-02-04 07:26:13.707649\n",
            "2025-02-04 07:26:13\n"
          ]
        }
      ]
    },
    {
      "cell_type": "markdown",
      "source": [
        "**practical exercises**"
      ],
      "metadata": {
        "id": "hj4rsx0K2tCl"
      }
    },
    {
      "cell_type": "code",
      "source": [
        "\"\"\"Create variables of different data types and print their types.\"\"\"\n",
        "# Create variables of different types\n",
        "x = 10          # Integer\n",
        "y = 3.14        # Float\n",
        "z = \"Python\"    # String\n",
        "w = True        # Boolean\n",
        "\n",
        "# Print variable types\n",
        "print(type(x))\n",
        "print(type(y))\n",
        "print(type(z))\n",
        "print(type(w))"
      ],
      "metadata": {
        "colab": {
          "base_uri": "https://localhost:8080/"
        },
        "collapsed": true,
        "id": "XAcVbtWu26PU",
        "outputId": "471e9468-e443-4a65-9e71-95afd5f45b0e"
      },
      "execution_count": null,
      "outputs": [
        {
          "output_type": "stream",
          "name": "stdout",
          "text": [
            "<class 'int'>\n",
            "<class 'float'>\n",
            "<class 'str'>\n",
            "<class 'bool'>\n"
          ]
        }
      ]
    },
    {
      "cell_type": "code",
      "source": [
        "\"\"\"Write a program to take two numbers as input and perform basic arithmetic operations.\"\"\"\n",
        "# Take user input\n",
        "a = int(input(\"Enter first number: \"))\n",
        "b = int(input(\"Enter second number: \"))\n",
        "\n",
        "# Perform operations\n",
        "print(\"Addition:\", a + b)\n",
        "print(\"Subtraction:\", a - b)\n",
        "print(\"Multiplication:\", a * b)\n",
        "print(\"Division:\", a / b)\n",
        "print(\"Floor Division:\", a // b)\n",
        "print(\"Modulus:\", a % b)\n",
        "print(\"Exponentiation:\", a ** b)\n",
        "\n"
      ],
      "metadata": {
        "colab": {
          "base_uri": "https://localhost:8080/"
        },
        "collapsed": true,
        "id": "FySsYDRq3JlL",
        "outputId": "30c5a0c3-49c4-49aa-f3d8-d40aaeda5963"
      },
      "execution_count": null,
      "outputs": [
        {
          "output_type": "stream",
          "name": "stdout",
          "text": [
            "Enter first number: 10\n",
            "Enter second number: 15\n",
            "Addition: 25\n",
            "Subtraction: -5\n",
            "Multiplication: 150\n",
            "Division: 0.6666666666666666\n",
            "Floor Division: 0\n",
            "Modulus: 10\n",
            "Exponentiation: 1000000000000000\n"
          ]
        }
      ]
    },
    {
      "cell_type": "code",
      "source": [
        "\"\"\"Take two numbers as input and compare them.\"\"\"\n",
        "x = int(input(\"Enter first number: \"))\n",
        "y = int(input(\"Enter second number: \"))\n",
        "\n",
        "print(\"x == y:\", x == y)\n",
        "print(\"x != y:\", x != y)\n",
        "print(\"x > y:\", x > y)\n",
        "print(\"x < y:\", x < y)\n",
        "print(\"x >= y:\", x >= y)\n",
        "print(\"x <= y:\", x <= y)"
      ],
      "metadata": {
        "colab": {
          "base_uri": "https://localhost:8080/"
        },
        "collapsed": true,
        "id": "PWZ4kE-Y3ZZU",
        "outputId": "da47b0b8-2822-4f49-d216-20e627eb2847"
      },
      "execution_count": null,
      "outputs": [
        {
          "output_type": "stream",
          "name": "stdout",
          "text": [
            "Enter first number: 15\n",
            "Enter second number: 20\n",
            "x == y: False\n",
            "x != y: True\n",
            "x > y: False\n",
            "x < y: True\n",
            "x >= y: False\n",
            "x <= y: True\n"
          ]
        }
      ]
    },
    {
      "cell_type": "code",
      "source": [
        "\"\"\"Check if a number is within a given range using logical operators.\"\"\"\n",
        "num = int(input(\"Enter a number: \"))\n",
        "\n",
        "print(\"Is the number between 10 and 50?\", num >= 10 and num <= 50)\n",
        "print(\"Is the number outside the range 10-50?\", num < 10 or num > 50)\n",
        "print(\"Is the number NOT equal to 25?\", not(num == 25))"
      ],
      "metadata": {
        "colab": {
          "base_uri": "https://localhost:8080/"
        },
        "collapsed": true,
        "id": "gXKK0Gxw3plX",
        "outputId": "41f52691-c9ab-487a-fc18-0cbfaf9fc679"
      },
      "execution_count": null,
      "outputs": [
        {
          "output_type": "stream",
          "name": "stdout",
          "text": [
            "Enter a number: 15\n",
            "Is the number between 10 and 50? True\n",
            "Is the number outside the range 10-50? False\n",
            "Is the number NOT equal to 25? True\n"
          ]
        }
      ]
    },
    {
      "cell_type": "code",
      "source": [
        "\"\"\"Use in, not in, and is operators in Python.\"\"\"\n",
        "fruits = [\"apple\", \"banana\", \"cherry\"]\n",
        "\n",
        "print(\"Is 'apple' in the list?\", \"apple\" in fruits)\n",
        "print(\"Is 'grape' not in the list?\", \"grape\" not in fruits)\n",
        "\n",
        "a = 5\n",
        "b = 5\n",
        "print(\"Is a the same object as b?\", a is b)\n",
        "print(\"Is a not the same object as b?\", a is not b)"
      ],
      "metadata": {
        "colab": {
          "base_uri": "https://localhost:8080/"
        },
        "id": "miypFfA53_cN",
        "outputId": "9a4dd533-5a97-4904-b66e-91ddc0dd6b35"
      },
      "execution_count": null,
      "outputs": [
        {
          "output_type": "stream",
          "name": "stdout",
          "text": [
            "Is 'apple' in the list? True\n",
            "Is 'grape' not in the list? True\n",
            "Is a the same object as b? True\n",
            "Is a not the same object as b? False\n"
          ]
        }
      ]
    },
    {
      "cell_type": "code",
      "source": [
        "\"\"\"Work with string indexing and slicing.\"\"\"\n",
        "text = \"Python Programming\"\n",
        "\n",
        "print(\"First character:\", text[0])\n",
        "print(\"Last character:\", text[-1])\n",
        "print(\"Substring (first 6 chars):\", text[:6])\n",
        "print(\"Substring (last 5 chars):\", text[-5:])\n",
        "print(\"Reverse the string:\", text[::-1])"
      ],
      "metadata": {
        "colab": {
          "base_uri": "https://localhost:8080/"
        },
        "collapsed": true,
        "id": "DY7noIXU4OOW",
        "outputId": "1314838d-22cb-4712-d208-c72550c6439d"
      },
      "execution_count": null,
      "outputs": [
        {
          "output_type": "stream",
          "name": "stdout",
          "text": [
            "First character: P\n",
            "Last character: g\n",
            "Substring (first 6 chars): Python\n",
            "Substring (last 5 chars): mming\n",
            "Reverse the string: gnimmargorP nohtyP\n"
          ]
        }
      ]
    },
    {
      "cell_type": "code",
      "source": [
        "\"\"\"Create a list, add elements, remove elements, and modify them.\"\"\"\n",
        "numbers = [10, 20, 30, 40]\n",
        "\n",
        "numbers.append(50)    # Add element\n",
        "numbers.remove(20)    # Remove element\n",
        "numbers[1] = 100      # Modify element\n",
        "\n",
        "print(\"Updated List:\", numbers)"
      ],
      "metadata": {
        "colab": {
          "base_uri": "https://localhost:8080/"
        },
        "id": "tZwFE25D4j78",
        "outputId": "f5a9bfb1-bc92-41c0-cb6c-5b0bed283003"
      },
      "execution_count": null,
      "outputs": [
        {
          "output_type": "stream",
          "name": "stdout",
          "text": [
            "Updated List: [10, 100, 40, 50]\n"
          ]
        }
      ]
    },
    {
      "cell_type": "code",
      "source": [
        "\"\"\"Try to modify a tuple and see what happens.\"\"\"\n",
        "my_tuple = (1, 2, 3, 4, 5)\n",
        "print(\"Tuple elements:\", my_tuple)\n",
        "\n",
        "# Uncomment the below line to see an error\n",
        "# my_tuple[2] = 100  # ❌ Tuples are immutable!"
      ],
      "metadata": {
        "colab": {
          "base_uri": "https://localhost:8080/"
        },
        "id": "HIg64g7i4sqJ",
        "outputId": "169242e1-90e8-4a9f-e107-f51446c20478"
      },
      "execution_count": null,
      "outputs": [
        {
          "output_type": "stream",
          "name": "stdout",
          "text": [
            "Tuple elements: (1, 2, 3, 4, 5)\n"
          ]
        }
      ]
    },
    {
      "cell_type": "code",
      "source": [
        "\"\"\"Perform basic set operations.\"\"\"\n",
        "set1 = {1, 2, 3, 4}\n",
        "set2 = {3, 4, 5, 6}\n",
        "\n",
        "print(\"Union:\", set1 | set2)\n",
        "print(\"Intersection:\", set1 & set2)\n",
        "print(\"Difference:\", set1 - set2)\n",
        "print(\"Is 2 in set1?\", 2 in set1)"
      ],
      "metadata": {
        "colab": {
          "base_uri": "https://localhost:8080/"
        },
        "id": "GZvxsBLx5KX-",
        "outputId": "cfd4f950-378c-4ef1-c5f4-58070e76d9d7"
      },
      "execution_count": null,
      "outputs": [
        {
          "output_type": "stream",
          "name": "stdout",
          "text": [
            "Union: {1, 2, 3, 4, 5, 6}\n",
            "Intersection: {3, 4}\n",
            "Difference: {1, 2}\n",
            "Is 2 in set1? True\n"
          ]
        }
      ]
    },
    {
      "cell_type": "code",
      "source": [
        "\"\"\"Create and manipulate a dictionary.\"\"\"\n",
        "\n",
        "student = {\"name\": \"John\", \"age\": 25, \"course\": \"Python\"}\n",
        "\n",
        "print(\"Student's Name:\", student[\"name\"])\n",
        "student[\"age\"] = 26  # Modify value\n",
        "student[\"grade\"] = \"A\"  # Add new key-value pair\n",
        "\n",
        "print(\"Updated Dictionary:\", student)"
      ],
      "metadata": {
        "colab": {
          "base_uri": "https://localhost:8080/"
        },
        "id": "QcnYXre-5Y3E",
        "outputId": "00d7e73c-ec54-47ed-9495-ff8010da49d0"
      },
      "execution_count": null,
      "outputs": [
        {
          "output_type": "stream",
          "name": "stdout",
          "text": [
            "Student's Name: John\n",
            "Updated Dictionary: {'name': 'John', 'age': 26, 'course': 'Python', 'grade': 'A'}\n"
          ]
        }
      ]
    },
    {
      "cell_type": "code",
      "source": [
        "\"\"\"Display the current date and time.\"\"\"\n",
        "from datetime import datetime\n",
        "\n",
        "now = datetime.now()\n",
        "print(\"Current Date & Time:\", now.strftime(\"%Y-%m-%d %H:%M:%S\"))"
      ],
      "metadata": {
        "colab": {
          "base_uri": "https://localhost:8080/"
        },
        "id": "XvCHMWkL5spC",
        "outputId": "d541ef86-dc0e-40f4-a084-af730d5ae6b9"
      },
      "execution_count": null,
      "outputs": [
        {
          "output_type": "stream",
          "name": "stdout",
          "text": [
            "Current Date & Time: 2025-02-04 07:41:24\n"
          ]
        }
      ]
    }
  ]
}